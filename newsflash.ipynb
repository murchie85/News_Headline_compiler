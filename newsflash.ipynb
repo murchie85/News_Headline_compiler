{
 "cells": [
  {
   "cell_type": "code",
   "execution_count": 52,
   "metadata": {},
   "outputs": [
    {
     "name": "stdout",
     "output_type": "stream",
     "text": [
      "\n",
      "\n",
      "**********************************************************************************************\n",
      "                                  BREAKING NEWSFLASH                                          \n",
      "**********************************************************************************************\n",
      "\n",
      "\n"
     ]
    }
   ],
   "source": [
    "\"\"\"\n",
    "Iterates through data folder\n",
    "appends each csv\n",
    "removes duplicates\n",
    "writes new CSV to base of data\n",
    "\"\"\"\n",
    "# IMPORT STATEMENTS \n",
    "import json\n",
    "import os\n",
    "import time\n",
    "import sys\n",
    "from datetime import date, timedelta\n",
    "import pandas as pd\n",
    "\n",
    "today = date.today()\n",
    "yesterday = date.today() + timedelta(days=-1)\n",
    "\n",
    "\n",
    "\n",
    "# ITERATE THROUGH CSV FILES\n",
    "print('')\n",
    "print('')\n",
    "print(\"**********************************************************************************************\")\n",
    "print(\"                                  BREAKING NEWSFLASH                                          \")\n",
    "print(\"**********************************************************************************************\")\n",
    "print('')\n",
    "print('')"
   ]
  },
  {
   "cell_type": "code",
   "execution_count": 13,
   "metadata": {},
   "outputs": [
    {
     "name": "stdout",
     "output_type": "stream",
     "text": [
      "Do you want to view news from before?\n",
      "Y or N         n\n"
     ]
    }
   ],
   "source": [
    "print('Do you want to view news from before?')\n",
    "answer = ''\n",
    "while answer != 'Y' and answer != 'N':\n",
    "    answer = str(input('Y or N         ')).upper()"
   ]
  },
  {
   "cell_type": "code",
   "execution_count": 17,
   "metadata": {},
   "outputs": [],
   "source": [
    "dir = 'data/' + str(today) + '/' + 'output.csv'"
   ]
  },
  {
   "cell_type": "code",
   "execution_count": 44,
   "metadata": {},
   "outputs": [],
   "source": [
    "df = pd.read_csv(dir)\n",
    "df = df.sample(frac=1) # shuffle "
   ]
  },
  {
   "cell_type": "code",
   "execution_count": 57,
   "metadata": {},
   "outputs": [
    {
     "name": "stdout",
     "output_type": "stream",
     "text": [
      "THE INSURGENT RAISING AN ARMY TO FIGHT FOR THE SOUL OF THE DEMOCRATIC PARTY\n",
      "\n",
      "*Independent*\n",
      "Marie Newman is hoping to emulate 2018 success of Alexandria Ocasio-Cortez in an election year marked by progressive enthusiasm, writes Clark Mindock\n",
      "URL can be found below\n",
      "\n",
      "http://www.independent.co.uk/news/world/americas/us-politics/marie-newman-congress-illinois-dan-lipinski-3rd-district-democrat-primary-roe-v-wade-a9277441.html\n",
      "\n",
      "\n",
      "\n"
     ]
    },
    {
     "ename": "KeyboardInterrupt",
     "evalue": "",
     "output_type": "error",
     "traceback": [
      "\u001b[0;31m---------------------------------------------------------------------------\u001b[0m",
      "\u001b[0;31mKeyboardInterrupt\u001b[0m                         Traceback (most recent call last)",
      "\u001b[0;32m<ipython-input-57-12df9f48733b>\u001b[0m in \u001b[0;36m<module>\u001b[0;34m\u001b[0m\n\u001b[1;32m     20\u001b[0m     \u001b[0mprint\u001b[0m\u001b[0;34m(\u001b[0m\u001b[0;34m''\u001b[0m\u001b[0;34m)\u001b[0m\u001b[0;34m\u001b[0m\u001b[0;34m\u001b[0m\u001b[0m\n\u001b[1;32m     21\u001b[0m     \u001b[0mprint\u001b[0m\u001b[0;34m(\u001b[0m\u001b[0;34m''\u001b[0m\u001b[0;34m)\u001b[0m\u001b[0;34m\u001b[0m\u001b[0;34m\u001b[0m\u001b[0m\n\u001b[0;32m---> 22\u001b[0;31m     \u001b[0mtime\u001b[0m\u001b[0;34m.\u001b[0m\u001b[0msleep\u001b[0m\u001b[0;34m(\u001b[0m\u001b[0;36m5\u001b[0m\u001b[0;34m)\u001b[0m\u001b[0;34m\u001b[0m\u001b[0;34m\u001b[0m\u001b[0m\n\u001b[0m",
      "\u001b[0;31mKeyboardInterrupt\u001b[0m: "
     ]
    }
   ],
   "source": [
    "def delay_print(s):\n",
    "    for c in s:\n",
    "        sys.stdout.write(c)\n",
    "        sys.stdout.flush()\n",
    "        time.sleep(0.10)\n",
    "\n",
    "\n",
    "\n",
    "\n",
    "for index, row in df.iterrows():\n",
    "    print((str(row['title'].upper())))\n",
    "    print('')\n",
    "    print('*' + str(row['source']) + '*')\n",
    "    delay_print(row['description'])\n",
    "    print('')\n",
    "    print('URL can be found below')\n",
    "    print('')\n",
    "    print(row['url'])\n",
    "    print('')\n",
    "    print('')\n",
    "    print('')\n",
    "    time.sleep(5)\n"
   ]
  },
  {
   "cell_type": "code",
   "execution_count": 53,
   "metadata": {},
   "outputs": [
    {
     "name": "stdout",
     "output_type": "stream",
     "text": [
      "hello world"
     ]
    }
   ],
   "source": [
    "\n",
    "delay_print(\"hello world\")"
   ]
  },
  {
   "cell_type": "code",
   "execution_count": null,
   "metadata": {},
   "outputs": [],
   "source": []
  }
 ],
 "metadata": {
  "kernelspec": {
   "display_name": "Python 3",
   "language": "python",
   "name": "python3"
  },
  "language_info": {
   "codemirror_mode": {
    "name": "ipython",
    "version": 3
   },
   "file_extension": ".py",
   "mimetype": "text/x-python",
   "name": "python",
   "nbconvert_exporter": "python",
   "pygments_lexer": "ipython3",
   "version": "3.7.3"
  }
 },
 "nbformat": 4,
 "nbformat_minor": 2
}
