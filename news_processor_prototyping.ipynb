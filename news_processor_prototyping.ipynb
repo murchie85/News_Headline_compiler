{
 "cells": [
  {
   "cell_type": "markdown",
   "metadata": {},
   "source": [
    "# PREP"
   ]
  },
  {
   "cell_type": "code",
   "execution_count": 1,
   "metadata": {},
   "outputs": [
    {
     "name": "stdout",
     "output_type": "stream",
     "text": [
      "Today's date: 2019-06-24\n"
     ]
    }
   ],
   "source": [
    "f = open(\"../keys/api.txt\", \"r\")\n",
    "keys = f.read()\n",
    "f.close()\n",
    "#keys  = keys.split(',')\n",
    "#print(\"Access Keys are : \" + str(keys))\n",
    "ACCESS_TOKEN = keys\n",
    "\n",
    "from datetime import date\n",
    "today = date.today()\n",
    "print(\"Today's date:\", today)"
   ]
  },
  {
   "cell_type": "code",
   "execution_count": 67,
   "metadata": {},
   "outputs": [],
   "source": [
    "from newsapi import NewsApiClient\n",
    "\n",
    "# Init\n",
    "newsapi = NewsApiClient(api_key=ACCESS_TOKEN)\n"
   ]
  },
  {
   "cell_type": "code",
   "execution_count": 61,
   "metadata": {},
   "outputs": [],
   "source": [
    "BBC =newsapi.get_top_headlines(sources='bbc-news')\n",
    "abc =newsapi.get_top_headlines(sources='abc-news')\n",
    "cnn =newsapi.get_top_headlines(sources='cnn')\n",
    "fox =newsapi.get_top_headlines(sources='fox-news')\n",
    "independent =newsapi.get_top_headlines(sources='independent')\n",
    "mirror=newsapi.get_top_headlines(sources='mirror')\n",
    "metro =newsapi.get_top_headlines(sources='metro')\n",
    "rt =newsapi.get_top_headlines(sources='rt')\n",
    "daily_mail =newsapi.get_top_headlines(sources='daily-mail')"
   ]
  },
  {
   "cell_type": "code",
   "execution_count": 63,
   "metadata": {},
   "outputs": [
    {
     "data": {
      "text/plain": [
       "\"Trump's temporary Cabinet and vacancy-riddled government\""
      ]
     },
     "execution_count": 63,
     "metadata": {},
     "output_type": "execute_result"
    }
   ],
   "source": [
    "cnn['articles'][9]['title']"
   ]
  },
  {
   "cell_type": "code",
   "execution_count": 21,
   "metadata": {},
   "outputs": [
    {
     "name": "stdout",
     "output_type": "stream",
     "text": [
      "status\n",
      "totalResults\n",
      "articles\n"
     ]
    }
   ],
   "source": [
    "BBC['articles'][9]['title']"
   ]
  },
  {
   "cell_type": "code",
   "execution_count": 47,
   "metadata": {},
   "outputs": [
    {
     "data": {
      "text/plain": [
       "dict_keys(['source', 'author', 'title', 'description', 'url', 'urlToImage', 'publishedAt', 'content'])"
      ]
     },
     "execution_count": 47,
     "metadata": {},
     "output_type": "execute_result"
    }
   ],
   "source": [
    "BBC['articles'][0].keys()"
   ]
  },
  {
   "cell_type": "code",
   "execution_count": 70,
   "metadata": {
    "scrolled": true
   },
   "outputs": [
    {
     "data": {
      "text/plain": [
       "{'source': {'id': 'bbc-news', 'name': 'BBC News'},\n",
       " 'author': 'BBC News',\n",
       " 'title': 'Demonstrators rally against PM in Czech Republic',\n",
       " 'description': 'Protesters are calling for Prime Minister Andrej Babis to resign amid fraud allegations.',\n",
       " 'url': 'http://www.bbc.co.uk/news/world-europe-48737467',\n",
       " 'urlToImage': 'https://ichef.bbci.co.uk/news/1024/branded_news/4FF6/production/_107507402_054845019-1.jpg',\n",
       " 'publishedAt': '2019-06-23T16:47:46Z',\n",
       " 'content': \"Image copyrightGetty ImagesImage caption\\r\\n Thousands of protesters took part in Sunday's march\\r\\nHundreds of thousands of protesters have taken to the streets of Prague demanding that PM Andrej Babis resign. \\r\\nMr Babis is facing a criminal investigation over a… [+2608 chars]\"}"
      ]
     },
     "execution_count": 70,
     "metadata": {},
     "output_type": "execute_result"
    }
   ],
   "source": [
    "BBC['articles'][0]"
   ]
  },
  {
   "cell_type": "code",
   "execution_count": 72,
   "metadata": {},
   "outputs": [],
   "source": [
    "import json\n",
    "with open('BBC.json', 'w') as fp:\n",
    "    json.dump(BBC, fp)"
   ]
  },
  {
   "cell_type": "code",
   "execution_count": 73,
   "metadata": {},
   "outputs": [],
   "source": [
    "with open('BBC.json') as json_file:  \n",
    "    data = json.load(json_file)"
   ]
  },
  {
   "cell_type": "markdown",
   "metadata": {},
   "source": [
    "**POWERED BY NewsAPI.org**"
   ]
  },
  {
   "cell_type": "code",
   "execution_count": 78,
   "metadata": {},
   "outputs": [
    {
     "data": {
      "text/plain": [
       "{'source': {'id': 'bbc-news', 'name': 'BBC News'},\n",
       " 'author': 'BBC News',\n",
       " 'title': 'Demonstrators rally against PM in Czech Republic',\n",
       " 'description': 'Protesters are calling for Prime Minister Andrej Babis to resign amid fraud allegations.',\n",
       " 'url': 'http://www.bbc.co.uk/news/world-europe-48737467',\n",
       " 'urlToImage': 'https://ichef.bbci.co.uk/news/1024/branded_news/4FF6/production/_107507402_054845019-1.jpg',\n",
       " 'publishedAt': '2019-06-23T16:47:46Z',\n",
       " 'content': \"Image copyrightGetty ImagesImage caption\\r\\n Thousands of protesters took part in Sunday's march\\r\\nHundreds of thousands of protesters have taken to the streets of Prague demanding that PM Andrej Babis resign. \\r\\nMr Babis is facing a criminal investigation over a… [+2608 chars]\"}"
      ]
     },
     "execution_count": 78,
     "metadata": {},
     "output_type": "execute_result"
    }
   ],
   "source": []
  },
  {
   "cell_type": "code",
   "execution_count": 75,
   "metadata": {},
   "outputs": [
    {
     "data": {
      "text/plain": [
       "{'status': 'ok',\n",
       " 'totalResults': 10,\n",
       " 'articles': [{'source': {'id': 'bbc-news', 'name': 'BBC News'},\n",
       "   'author': 'BBC News',\n",
       "   'title': 'Demonstrators rally against PM in Czech Republic',\n",
       "   'description': 'Protesters are calling for Prime Minister Andrej Babis to resign amid fraud allegations.',\n",
       "   'url': 'http://www.bbc.co.uk/news/world-europe-48737467',\n",
       "   'urlToImage': 'https://ichef.bbci.co.uk/news/1024/branded_news/4FF6/production/_107507402_054845019-1.jpg',\n",
       "   'publishedAt': '2019-06-23T16:47:46Z',\n",
       "   'content': \"Image copyrightGetty ImagesImage caption\\r\\n Thousands of protesters took part in Sunday's march\\r\\nHundreds of thousands of protesters have taken to the streets of Prague demanding that PM Andrej Babis resign. \\r\\nMr Babis is facing a criminal investigation over a… [+2608 chars]\"},\n",
       "  {'source': {'id': 'bbc-news', 'name': 'BBC News'},\n",
       "   'author': 'BBC News',\n",
       "   'title': 'Turkey ruling party set to lose Istanbul election',\n",
       "   'description': 'Ruling party in Turkey set to lose city of Istanbul after re-run mayoral election in big blow for President Erdogan',\n",
       "   'url': 'http://www.bbc.co.uk/news/world-europe-48739256',\n",
       "   'urlToImage': 'https://ichef.bbci.co.uk/news/1024/branded_news/7A23/production/_97176213_breaking_news_bigger.png',\n",
       "   'publishedAt': '2019-06-23T16:30:56Z',\n",
       "   'content': \"Turkey's ruling party is set to lose control of Istanbul after a re-run of the mayoral election, initial results show.\\r\\nThe candidate for the main opposition party, Ekrem Imamoglu, has a commanding lead with more than 90% of votes counted.\\r\\nThis breaking news… [+264 chars]\"},\n",
       "  {'source': {'id': 'bbc-news', 'name': 'BBC News'},\n",
       "   'author': 'BBC News',\n",
       "   'title': 'Bodies of missing climbers recovered in Himalayas',\n",
       "   'description': \"The eight mountaineers had been attempting to climb India's second-highest peak, Nanda Devi.\",\n",
       "   'url': 'http://www.bbc.co.uk/news/world-asia-india-48738142',\n",
       "   'urlToImage': 'https://ichef.bbci.co.uk/news/1024/branded_news/3C5A/production/_107205451_climbers_reutersthisone.jpg',\n",
       "   'publishedAt': '2019-06-23T16:02:20Z',\n",
       "   'content': 'Image copyrightReutersImage caption\\r\\n The group pictured before they began their ascent last month\\r\\nThe bodies of seven climbers who went missing last month have been recovered in the Himalayas, officials say.\\r\\nA rescue team is searching for the body of an ei… [+2771 chars]'},\n",
       "  {'source': {'id': 'bbc-news', 'name': 'BBC News'},\n",
       "   'author': 'BBC News',\n",
       "   'title': 'Why police are hunting a group of US state senators',\n",
       "   'description': 'Republicans from Oregon have been missing since walking out over a climate change law on Thursday.',\n",
       "   'url': 'http://www.bbc.co.uk/news/world-us-canada-48737711',\n",
       "   'urlToImage': 'https://ichef.bbci.co.uk/news/1024/branded_news/0884/production/_107508120_gettyimages-507449350.jpg',\n",
       "   'publishedAt': '2019-06-23T15:45:26Z',\n",
       "   'content': \"Image copyrightAFPImage caption\\r\\n The state's governor has tasked state troopers with finding the absentees\\r\\nEleven Republican senators from the state of Oregon are in hiding. \\r\\nThey walked out of Salem's Capitol building on Thursday and state police have bee… [+4172 chars]\"},\n",
       "  {'source': {'id': 'bbc-news', 'name': 'BBC News'},\n",
       "   'author': 'BBC Sport',\n",
       "   'title': \"Watch: Fifa Women's World Cup - England v Cameroon in last 16 under way\",\n",
       "   'description': \"England face Cameroon in the round of 16 at the Fifa Women's World Cup 2019 - watch BBC One coverage, listen to BBC Radio 5 Live commentary and follow live text.\",\n",
       "   'url': 'http://www.bbc.co.uk/sport/live/football/47323153',\n",
       "   'urlToImage': 'https://m.files.bbci.co.uk/modules/bbc-morph-sport-opengraph/1.1.1/images/bbc-sport-logo.png',\n",
       "   'publishedAt': '2019-06-23T15:35:54Z',\n",
       "   'content': 'England assistant coach Bev Priestman: The African teams are unpredictable and unorthodox. With\\r\\nJapan you knew exactly what you were going to get in terms of their structure.\\r\\nWith an African team, theyre athletic with a lot of direct play and\\r\\nsecond-phase … [+239 chars]'},\n",
       "  {'source': {'id': 'bbc-news', 'name': 'BBC News'},\n",
       "   'author': 'BBC News',\n",
       "   'title': 'Ukraine holds largest gay pride event to date',\n",
       "   'description': 'Organisers say around 8,000 attended the Kiev parade - up from 5,000 last year.',\n",
       "   'url': 'http://www.bbc.co.uk/news/world-europe-48738251',\n",
       "   'urlToImage': 'https://ichef.bbci.co.uk/news/1024/branded_news/12732/production/_107507557_mediaitem107507556.jpg',\n",
       "   'publishedAt': '2019-06-23T14:54:41Z',\n",
       "   'content': 'Image copyrightEPA\\r\\nThousands have marched through the Ukrainian capital for its annual gay pride event, the largest and most peaceful the country has seen.\\r\\nUkrainian politicians joined the celebration in Kiev, with organisers putting the number of attendees… [+1133 chars]'},\n",
       "  {'source': {'id': 'bbc-news', 'name': 'BBC News'},\n",
       "   'author': 'BBC Sport',\n",
       "   'title': 'Lewis Hamilton cruises to French GP victory',\n",
       "   'description': 'Lewis Hamilton takes a stranglehold on the world title with a dominant victory in the French Grand Prix.',\n",
       "   'url': 'http://www.bbc.co.uk/sport/formula1/48737567',\n",
       "   'urlToImage': 'https://ichef.bbci.co.uk/onesport/cps/624/cpsprodpb/12994/production/_107508167_hamilton.jpg',\n",
       "   'publishedAt': '2019-06-23T14:38:29Z',\n",
       "   'content': 'Lewis Hamilton took a stranglehold on the world title with a dominant victory in the French Grand Prix.\\r\\nHamilton was in a league of his own, even over his Mercedes team-mate Valtteri Bottas, as the 34-year-old Briton took his sixth win in eight races.\\r\\nThe f… [+4559 chars]'},\n",
       "  {'source': {'id': 'bbc-news', 'name': 'BBC News'},\n",
       "   'author': 'BBC News',\n",
       "   'title': \"Johnson should give row 'explanation'\",\n",
       "   'description': 'Cabinet minister Liam Fox says it would be \"easier\" if the PM contender explained a row at his home.',\n",
       "   'url': 'http://www.bbc.co.uk/news/uk-politics-48736968',\n",
       "   'urlToImage': 'https://ichef.bbci.co.uk/news/1024/branded_news/C774/production/_107506015_8b6c865a-9bf9-4f38-b7b3-9f76b68f3f3b.jpg',\n",
       "   'publishedAt': '2019-06-23T11:44:20Z',\n",
       "   'content': 'Image copyrightEPA\\r\\nInternational Trade Secretary Liam Fox said it would be \"easier\" for Boris Johnson to \"just give an explanation\" about the row recorded at his home.\\r\\nThe MP said reports of the row between Mr Johnson and his partner should not be a \"distra… [+1982 chars]'},\n",
       "  {'source': {'id': 'bbc-news', 'name': 'BBC News'},\n",
       "   'author': 'BBC News',\n",
       "   'title': 'Ethiopia army chief shot amid unrest',\n",
       "   'description': 'The attack on Seare Mekonnen followed an attempted coup in the northern Amhara region.',\n",
       "   'url': 'http://www.bbc.co.uk/news/world-africa-48734572',\n",
       "   'urlToImage': 'https://ichef.bbci.co.uk/news/1024/branded_news/15586/production/_107503478_ethiopia.jpg',\n",
       "   'publishedAt': '2019-06-23T01:49:10Z',\n",
       "   'content': \"Image copyrightGetty ImagesImage caption\\r\\n Mr Abiy has taken measures to end repression, but ethnic violence has increased\\r\\nEthiopia's Prime Minister Abiy Ahmed says the country's defence chief of staff has been shot following unrest in the northern Amhara re… [+1693 chars]\"},\n",
       "  {'source': {'id': 'bbc-news', 'name': 'BBC News'},\n",
       "   'author': 'BBC News',\n",
       "   'title': \"Kim Jong-un receives 'excellent' letter from Trump\",\n",
       "   'description': 'State media says the North Korean leader will \"seriously contemplate the interesting content\".',\n",
       "   'url': 'http://www.bbc.co.uk/news/world-asia-48734571',\n",
       "   'urlToImage': 'https://ichef.bbci.co.uk/news/1024/branded_news/AD8E/production/_107503444_mediaitem107503433.jpg',\n",
       "   'publishedAt': '2019-06-22T23:54:03Z',\n",
       "   'content': 'Image copyrightAFPImage caption\\r\\n Mr Kim was pictured reading the letter\\r\\nNorth Korea leader Kim Jong-un has received a personal letter from US President Donald Trump, state media has reported. \\r\\nMr Kim praised the letter as \"excellent\" and said he would \"ser… [+1006 chars]'}]}"
      ]
     },
     "execution_count": 75,
     "metadata": {},
     "output_type": "execute_result"
    }
   ],
   "source": []
  },
  {
   "cell_type": "code",
   "execution_count": 88,
   "metadata": {},
   "outputs": [],
   "source": [
    "news_array = ['BBC,bbc-news', 'abc,abc-news','cnn,cnn','fox,fox-news','independent,independent','mirror,mirror','metro,metro','rt,rt','daily_mail,daily-mail']\n"
   ]
  },
  {
   "cell_type": "code",
   "execution_count": 92,
   "metadata": {},
   "outputs": [
    {
     "data": {
      "text/plain": [
       "'fox-news'"
      ]
     },
     "execution_count": 92,
     "metadata": {},
     "output_type": "execute_result"
    }
   ],
   "source": [
    "news_array[3].split(',')[1]"
   ]
  },
  {
   "cell_type": "code",
   "execution_count": 100,
   "metadata": {},
   "outputs": [
    {
     "name": "stdout",
     "output_type": "stream",
     "text": [
      "PULLING NEWS HEADLINES - PLEASE WAIT .......\n"
     ]
    }
   ],
   "source": [
    "news_keyname_array = ['BBC,bbc-news', 'abc,abc-news']\n",
    "news_array = []\n",
    "\n",
    "print(\"PULLING NEWS HEADLINES - PLEASE WAIT .......\")\n",
    "for item in news_keyname_array:\n",
    "\tnews_name = item.split(',')[0]\n",
    "\tnews_key = item.split(',')[1]\n",
    "\tnews_array.append(newsapi.get_top_headlines(sources=news_key))\n",
    "\n",
    "\n"
   ]
  },
  {
   "cell_type": "code",
   "execution_count": 107,
   "metadata": {},
   "outputs": [],
   "source": [
    "file_name = str(news_name + \".json\")"
   ]
  },
  {
   "cell_type": "code",
   "execution_count": 128,
   "metadata": {},
   "outputs": [
    {
     "name": "stdout",
     "output_type": "stream",
     "text": [
      "PULLING NEWS HEADLINES - PLEASE WAIT .......\n",
      "Complete - WRITING TO FILE.......\n"
     ]
    },
    {
     "ename": "TypeError",
     "evalue": "list indices must be integers or slices, not str",
     "output_type": "error",
     "traceback": [
      "\u001b[0;31m---------------------------------------------------------------------------\u001b[0m",
      "\u001b[0;31mTypeError\u001b[0m                                 Traceback (most recent call last)",
      "\u001b[0;32m<ipython-input-128-b53955c86dd8>\u001b[0m in \u001b[0;36m<module>\u001b[0;34m\u001b[0m\n\u001b[1;32m      6\u001b[0m         \u001b[0mprint\u001b[0m\u001b[0;34m(\u001b[0m\u001b[0;34m\"Complete - WRITING TO FILE.......\"\u001b[0m\u001b[0;34m)\u001b[0m\u001b[0;34m\u001b[0m\u001b[0;34m\u001b[0m\u001b[0m\n\u001b[1;32m      7\u001b[0m         \u001b[0mfile_name\u001b[0m \u001b[0;34m=\u001b[0m \u001b[0mstr\u001b[0m\u001b[0;34m(\u001b[0m\u001b[0mnews_name\u001b[0m \u001b[0;34m+\u001b[0m \u001b[0;34m\".json\"\u001b[0m\u001b[0;34m)\u001b[0m\u001b[0;34m\u001b[0m\u001b[0;34m\u001b[0m\u001b[0m\n\u001b[0;32m----> 8\u001b[0;31m         \u001b[0mjson_item\u001b[0m \u001b[0;34m=\u001b[0m \u001b[0mnews_array\u001b[0m\u001b[0;34m[\u001b[0m\u001b[0mitem\u001b[0m\u001b[0;34m]\u001b[0m\u001b[0;34m\u001b[0m\u001b[0;34m\u001b[0m\u001b[0m\n\u001b[0m\u001b[1;32m      9\u001b[0m         \u001b[0;32mwith\u001b[0m \u001b[0mopen\u001b[0m\u001b[0;34m(\u001b[0m\u001b[0mfile_name\u001b[0m\u001b[0;34m,\u001b[0m \u001b[0;34m'w'\u001b[0m\u001b[0;34m)\u001b[0m \u001b[0;32mas\u001b[0m \u001b[0mfp\u001b[0m\u001b[0;34m:\u001b[0m\u001b[0;34m\u001b[0m\u001b[0;34m\u001b[0m\u001b[0m\n\u001b[1;32m     10\u001b[0m                 \u001b[0mjson\u001b[0m\u001b[0;34m.\u001b[0m\u001b[0mdump\u001b[0m\u001b[0;34m(\u001b[0m\u001b[0mjson_item\u001b[0m\u001b[0;34m,\u001b[0m \u001b[0mfp\u001b[0m\u001b[0;34m)\u001b[0m\u001b[0;34m\u001b[0m\u001b[0;34m\u001b[0m\u001b[0m\n",
      "\u001b[0;31mTypeError\u001b[0m: list indices must be integers or slices, not str"
     ]
    }
   ],
   "source": [
    "print(\"PULLING NEWS HEADLINES - PLEASE WAIT .......\")\n",
    "for item in news_keyname_array:\n",
    "\tnews_name = item.split(',')[0]\n",
    "\tnews_key = item.split(',')[1]\n",
    "\tnews_array.append(newsapi.get_top_headlines(sources=news_key))\n",
    "\tprint(\"Complete - WRITING TO FILE.......\")\n",
    "\tfile_name = str(news_name + \".json\")\n",
    "\tjson_item = news_array[item]\n",
    "\twith open(file_name, 'w') as fp:\n",
    "\t\tjson.dump(json_item, fp)\n",
    "\n"
   ]
  },
  {
   "cell_type": "code",
   "execution_count": 4,
   "metadata": {},
   "outputs": [
    {
     "name": "stdout",
     "output_type": "stream",
     "text": [
      "data/2019-06-24\n"
     ]
    }
   ],
   "source": []
  },
  {
   "cell_type": "code",
   "execution_count": 6,
   "metadata": {},
   "outputs": [
    {
     "name": "stdout",
     "output_type": "stream",
     "text": [
      "data/2019-06-24\n",
      "['cnn', 'metro', 'fox', 'BBC', 'daily_mail', 'rt', 'mirror', 'independent', 'abc']\n"
     ]
    }
   ],
   "source": [
    "directory = \"data/\" + str(today)\n",
    "print(directory)\n",
    "import os\n",
    "import json\n",
    "newsNameArray = []\n",
    "data = []\n",
    "directory = \"data/\" + str(today)\n",
    "for filename in os.listdir(directory):\n",
    "    if filename.endswith(\".json\"): \n",
    "        newsName = filename[:-5]\n",
    "        newsNameArray.append(newsName)\n",
    "        with open(str(directory) + \"/\" + str(filename)) as json_file:\n",
    "            data.append(json.load(json_file))\n",
    "        continue\n",
    "    else:\n",
    "        continue\n",
    "\n",
    "\n",
    "print(newsNameArray)\n"
   ]
  },
  {
   "cell_type": "code",
   "execution_count": 148,
   "metadata": {},
   "outputs": [
    {
     "data": {
      "text/plain": [
       "{'source': {'id': 'cnn', 'name': 'CNN'},\n",
       " 'author': 'Artemis Moshtaghian and Eric Levenson, CNN',\n",
       " 'title': 'Hard Rock Hotel in Dominican Republic to remove liquor dispensers from minibars',\n",
       " 'description': 'The general manager said the decision is not connected to the deaths of two American tourists at the Punta Cana resort, but is meant to provide \"more tranquility for guests.\"',\n",
       " 'url': 'http://us.cnn.com/2019/06/23/world/hard-rock-dominican-republic-tourists/index.html',\n",
       " 'urlToImage': 'https://cdn.cnn.com/cnnnext/dam/assets/151118151232-02-dominican-republic-best-beaches-super-tease.jpg',\n",
       " 'publishedAt': '2019-06-23T18:41:06Z',\n",
       " 'content': '(CNN)The Hard Rock Hotel and Casino is removing liquor dispensers from guest room minibars at its resort in Punta Cana, the Dominican Republic, the general manager of the resort told CNN. \\r\\nHard Rock Hotel and Casino decided last week to remove the liquor dis… [+3093 chars]'}"
      ]
     },
     "execution_count": 148,
     "metadata": {},
     "output_type": "execute_result"
    }
   ],
   "source": [
    "data[0]['articles'][0]"
   ]
  },
  {
   "cell_type": "code",
   "execution_count": 152,
   "metadata": {},
   "outputs": [
    {
     "name": "stdout",
     "output_type": "stream",
     "text": [
      "CNN\n",
      "Hard Rock Hotel in Dominican Republic to remove liquor dispensers from minibars\n"
     ]
    }
   ],
   "source": [
    "print(data[0]['articles'][0]['source']['name'])\n",
    "print(data[0]['articles'][0]['title'])"
   ]
  },
  {
   "cell_type": "code",
   "execution_count": 8,
   "metadata": {},
   "outputs": [],
   "source": [
    "quizz_array = []\n",
    "\n",
    "for company in range(0, len(data)):\n",
    "    for article in range(0, len(data[company]['articles'])):\n",
    "        news_firm = data[company]['articles'][article]['source']['name']\n",
    "        headline =  data[company]['articles'][article]['title']\n",
    "        item = str(str(news_firm) + \",\" + str(headline))\n",
    "        quizz_array.append(item)\n",
    "        \n",
    "    "
   ]
  },
  {
   "cell_type": "code",
   "execution_count": 10,
   "metadata": {},
   "outputs": [
    {
     "data": {
      "text/plain": [
       "['CNN,Are fears about American deaths in the D.R. overblown? - CNN Video',\n",
       " \"CNN,Ohio serial killer's mother was stabbed to death in the home where her son had been arrested\",\n",
       " 'CNN,After deaths, more tourists to Dominican Republic say they were stricken with illness',\n",
       " \"CNN,Beto O'Rourke proposes 'war tax' as part of veterans' plan\",\n",
       " 'CNN,A bystander says Cam Newton offered $1,500 to trade seats with another passenger. He was rejected',\n",
       " 'CNN,A 10th American has died while vacationing in the Dominican Republic',\n",
       " \"CNN,Tense exchange from Buttigieg's South Bend town hall - CNN Video\",\n",
       " 'CNN,Hard Rock Hotel in Dominican Republic to remove liquor dispensers from minibars',\n",
       " 'CNN,Your questions about the Dominican Republic tourist deaths, answered',\n",
       " 'CNN,Couple: We were sickened at same DR hotel where Americans died',\n",
       " \"Metro,Boris Johnson 'seen for the first time with Carrie Symonds after row'\",\n",
       " 'Metro,Family of 15 eat for as little as 66p per head for each meal',\n",
       " \"Metro,Girl, 6, dragged under disqualified driver's car as she played outside her home\",\n",
       " 'Metro,Barack and Michelle Obama join George and Amal Clooney in Lake Como',\n",
       " 'Metro,Woman arrested after ‘trying to rush cockpit’ on Jet2 plane released on bail',\n",
       " 'Metro,Jack Russell pulls owner into bushes to find abandoned baby',\n",
       " 'Metro,Gemma Collins weight loss down to £250 injections that ‘remove hunger’',\n",
       " 'Metro,This Morning star calls for Amanda Holden to be sacked',\n",
       " \"Metro,Woman 'caused 100 babies' deaths by giving care but was not doctor'\",\n",
       " 'Metro,Sugar daddy dating to fund uni left student reliant on sex for cash',\n",
       " \"Fox News,'Fox & Friends' takes on chaotic Buttigieg town hall: He looked 'weak, detached from the community'\",\n",
       " \"Fox News,Democratic presidential hopeful Beto O'Rourke hosts a roundtable with veterans and advocates\",\n",
       " 'Fox News,Kellyanne Conway: Democrats want to put a big role of masking tape over my mouth because I helped elect Trump',\n",
       " 'Fox News,Mysterious 2,000-year-old wooden arm found in English well may have been a spiritual offering',\n",
       " 'Fox News,NBA commissioner says league moved away from the term ‘owner’',\n",
       " 'Fox News,Colorado bus carrying church group kills 2, leaves 13 injured',\n",
       " 'Fox News,San Diego spending millions to build elaborate tent facility for homeless',\n",
       " 'Fox News,Military service member assigned to southern border found dead in Arizona',\n",
       " 'Fox News,U.S. Citizenship and Immigration Services on Trump delaying ICE raids',\n",
       " 'Fox News,Lawmakers want big tech to disclose how much your personal data is worth; app helps fulfill your selfie needs',\n",
       " \"BBC News,Ethiopia 'coup ringleader killed'\",\n",
       " \"BBC News,Captured IS thousands 'must be tried or freed'\",\n",
       " 'BBC News,Thailand cave rescue anniversary',\n",
       " 'BBC News,Johnson no-show scuppers TV debate',\n",
       " \"BBC News,Vietnam jails US man for 'state overthrow plot'\",\n",
       " \"BBC News,'Greatest day' in Australian women's sport\",\n",
       " 'BBC News,France braces for 40C heatwave',\n",
       " 'BBC News,Is Palestinian-Israeli peace out of reach?',\n",
       " 'BBC News,‘We needed somewhere to tell wild drug stories’',\n",
       " 'BBC News,Woman wakes alone on board parked plane in Canada',\n",
       " 'Daily Mail,Jacob Rees-Mogg slams neighbours who called police on Boris',\n",
       " 'Daily Mail,Grandfather sacked by Asda for sharing religious Billy Connolly sketch',\n",
       " 'Daily Mail,Incredible moment police RAM suspect off his moped',\n",
       " \"Daily Mail,Schoolgirl, six, makes 'miracle' recovery after driver ran her over\",\n",
       " 'Daily Mail,Boris and Carrie are seen together for first time since police row',\n",
       " 'Daily Mail,Tory MPs ready to vote no confidence in the government over No Deal',\n",
       " 'Daily Mail,Met Office warn danger to life ahead of one month rainfall in one day',\n",
       " \"Daily Mail,'Don't be a coward, Boris!' Hunt launches vicious salvo at Tory rival\",\n",
       " 'Daily Mail,Two Eurofighter jets crash into each other in Germany',\n",
       " 'Daily Mail,Ex-civil servant caught stealing £253 champagne from Waitrose',\n",
       " 'RT,Стычки на поле, слёзы и упрёки в расизме: матч женского ЧМ по футболу Англия — Камерун завершился скандалом',\n",
       " 'RT,«В стране царит русофобская истерия»: в Кремле назвали условия для снятия ограничений в отношении Грузии',\n",
       " 'RT,«Всеми любимый, талантливый и необыкновенно красивый человек»: умер актёр Андрей Харитонов',\n",
       " 'RT,«Стали искать намёк»: 60 лет назад Хрущёв пригрозил американцам «кузькиной матерью»',\n",
       " 'RT,Путин продлил продэмбарго до конца 2020 года',\n",
       " 'RT,Пролог к учениям «Центр-2019»: в ЦВО началась внезапная проверка боеготовности',\n",
       " 'RT,«На первом месте — вопрос социальных гарантий»: 48% россиян высказались против сокращения рабочей недели до четырёх дней',\n",
       " 'RT,«Когда каждый сам за себя — это плохой капитализм»: Аркадий Ротенберг о санкциях, импортозамещении и Крымском мосте',\n",
       " 'RT,«Отдали целителям месячную зарплату»: как лечат детей с ДЦП',\n",
       " 'Mirror,Drunk woman who murdered neighbour with ash tray and scissors is jailed for life',\n",
       " \"Mirror,Girl, 16, 'held captive for days and raped by three boys and four men'\",\n",
       " 'Mirror,Woman outraged as man dumps her after she gets pregnant - but he has good reason',\n",
       " \"Mirror,Inside story of Rafa Benitez's Newcastle exit as Ashley lets boss walk away\",\n",
       " 'Mirror,Mass brawl breaks out at Ascot as violent race-goers throw punches in bar area',\n",
       " \"Mirror,Two 'Eurofighter' jets 'crash into each other' over Germany\",\n",
       " 'Mirror,Haunting message of woman who died for 27 minutes before being revived six times',\n",
       " \"Mirror,Mum faced '7 days of hell' in Saint Lucia after BA cancelled flight\",\n",
       " \"Mirror,This Morning host calls for Amanda Holden's sacking over Phillip Schofield spat\",\n",
       " 'Mirror,Transfer news live updates including latest from Arsenal, Liverpool and Man Utd',\n",
       " 'Independent,Bitcoin: What next for the cryptocurrency as price passes $10,000?',\n",
       " \"Independent,Trump news – live: President faces Iran drone warning, new rape accusation and outcry over 'filthy' detention centres for children\",\n",
       " 'Independent,Iran warns Trump it could shoot down more US drones',\n",
       " 'Independent,Trump support banned by knitting website Ravelry over ‘white supremacy’',\n",
       " 'Independent,Who trusts opinion polls any more? I do',\n",
       " \"Independent,Migrant detention conditions in Texas 'the worst I've ever seen', admits Republican after reports of lice-infested children sleeping on floors\",\n",
       " 'Independent,The power of plants: the benefits of our leafy friends are greater than you think',\n",
       " 'Independent,‘Anarchy in the streets’: Electric scooter accidents plague Paris as residents demand police crackdown',\n",
       " 'Independent,6 best at-home DNA testing kits',\n",
       " \"Independent,8 best men's electric razors\",\n",
       " 'ABC News,South Dakota judge weighs execution for 27-year-old homicide',\n",
       " 'ABC News,Eldorado buying Caesars in $17.3B cash-and-stock deal',\n",
       " 'ABC News,Severe weather threatens 50 million from Wisconsin to Georgia',\n",
       " 'ABC News,Bodies of 7 missing climbers recovered in Indian Himalayas, officials say',\n",
       " 'ABC News,Pompeo arrives in Saudi Arabia as Iran threatens US drones',\n",
       " \"ABC News,'Start Here': Iran sanctions planned, mass deportations delayed, climate vote dodged\",\n",
       " 'ABC News,UN rights chief: Relatives of ex-IS fighters should go home',\n",
       " 'ABC News,Police officer fatally shot at Missouri food market',\n",
       " 'ABC News,Military service member found dead in southern Arizona',\n",
       " 'ABC News,Mom, 2 young children found dead in home may have been murdered: Police']"
      ]
     },
     "execution_count": 10,
     "metadata": {},
     "output_type": "execute_result"
    }
   ],
   "source": [
    "quizz_array"
   ]
  },
  {
   "cell_type": "code",
   "execution_count": 183,
   "metadata": {},
   "outputs": [
    {
     "data": {
      "text/plain": [
       "'ABC News'"
      ]
     },
     "execution_count": 183,
     "metadata": {},
     "output_type": "execute_result"
    }
   ],
   "source": [
    "quizz_array[88]"
   ]
  },
  {
   "cell_type": "markdown",
   "metadata": {},
   "source": [
    "# processing data "
   ]
  },
  {
   "cell_type": "code",
   "execution_count": 1,
   "metadata": {},
   "outputs": [
    {
     "name": "stdout",
     "output_type": "stream",
     "text": [
      "Today's date: 2019-07-04\n",
      "['cnn', 'metro', 'fox', 'BBC', 'daily_mail', 'rt', 'mirror', 'independent', 'abc']\n",
      "9\n"
     ]
    }
   ],
   "source": [
    "import os\n",
    "import json\n",
    "from datetime import date\n",
    "\n",
    "today = date.today()\n",
    "print(\"Today's date:\", today)\n",
    "\n",
    "\n",
    "newsNameArray = []\n",
    "data = []\n",
    "directory = \"data/\" + str(today)\n",
    "for filename in os.listdir(directory):\n",
    "    if filename.endswith(\".json\"): \n",
    "        newsName = filename[:-5]\n",
    "        newsNameArray.append(newsName)\n",
    "        with open(str(directory) + \"/\" + str(filename)) as json_file:\n",
    "            data.append(json.load(json_file))\n",
    "        continue\n",
    "    else:\n",
    "        continue\n",
    "\n",
    "\n",
    "print(newsNameArray)\n",
    "print(len(data))"
   ]
  },
  {
   "cell_type": "code",
   "execution_count": 19,
   "metadata": {},
   "outputs": [
    {
     "name": "stdout",
     "output_type": "stream",
     "text": [
      "printing news agency\n",
      "cnn\n",
      "\n",
      "printing keys\n",
      "dict_keys(['status', 'totalResults', 'articles'])\n",
      "\n",
      "printing sample article\n",
      "{'source': {'id': 'cnn', 'name': 'CNN'}, 'author': None, 'title': 'Seismologist explains rolling feeling after California earthquake - CNN Video', 'description': 'Seismologist Lucy Jones explains what causes a rolling feeling some people experience during an earthquake.', 'url': 'http://us.cnn.com/videos/us/2019/07/04/california-earthquake-seismologist-sot-nr-vpx.cnn', 'urlToImage': 'https://cdn.cnn.com/cnnnext/dam/assets/190704143618-california-earthquake-super-tease.jpg', 'publishedAt': '2019-07-04T18:52:31.3198204Z', 'content': \"Chat with us in Facebook Messenger. Find out what's happening in the world as it unfolds.\"}\n",
      "\n",
      "printing sample article title\n",
      "Seismologist explains rolling feeling after California earthquake - CNN Video\n"
     ]
    }
   ],
   "source": [
    "print('printing news agency')\n",
    "print(newsNameArray[0])\n",
    "print('')\n",
    "print('printing keys')\n",
    "print(data[0].keys())\n",
    "print('')\n",
    "print('printing sample article')\n",
    "print(data[0]['articles'][0])\n",
    "print('')\n",
    "print('printing sample article title')\n",
    "print(data[0]['articles'][0]['title'])"
   ]
  },
  {
   "cell_type": "code",
   "execution_count": 15,
   "metadata": {},
   "outputs": [
    {
     "data": {
      "text/plain": [
       "{'source': {'id': 'cnn', 'name': 'CNN'},\n",
       " 'author': None,\n",
       " 'title': 'Seismologist explains rolling feeling after California earthquake - CNN Video',\n",
       " 'description': 'Seismologist Lucy Jones explains what causes a rolling feeling some people experience during an earthquake.',\n",
       " 'url': 'http://us.cnn.com/videos/us/2019/07/04/california-earthquake-seismologist-sot-nr-vpx.cnn',\n",
       " 'urlToImage': 'https://cdn.cnn.com/cnnnext/dam/assets/190704143618-california-earthquake-super-tease.jpg',\n",
       " 'publishedAt': '2019-07-04T18:52:31.3198204Z',\n",
       " 'content': \"Chat with us in Facebook Messenger. Find out what's happening in the world as it unfolds.\"}"
      ]
     },
     "execution_count": 15,
     "metadata": {},
     "output_type": "execute_result"
    }
   ],
   "source": []
  },
  {
   "cell_type": "code",
   "execution_count": null,
   "metadata": {},
   "outputs": [],
   "source": []
  },
  {
   "cell_type": "code",
   "execution_count": null,
   "metadata": {},
   "outputs": [],
   "source": []
  }
 ],
 "metadata": {
  "kernelspec": {
   "display_name": "Python 3",
   "language": "python",
   "name": "python3"
  },
  "language_info": {
   "codemirror_mode": {
    "name": "ipython",
    "version": 3
   },
   "file_extension": ".py",
   "mimetype": "text/x-python",
   "name": "python",
   "nbconvert_exporter": "python",
   "pygments_lexer": "ipython3",
   "version": "3.7.3"
  }
 },
 "nbformat": 4,
 "nbformat_minor": 2
}
