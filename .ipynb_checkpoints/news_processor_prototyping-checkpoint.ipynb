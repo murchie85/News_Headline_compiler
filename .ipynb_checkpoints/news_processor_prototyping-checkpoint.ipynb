{
 "cells": [
  {
   "cell_type": "markdown",
   "metadata": {},
   "source": [
    "# PREP"
   ]
  },
  {
   "cell_type": "code",
   "execution_count": 66,
   "metadata": {},
   "outputs": [
    {
     "name": "stdout",
     "output_type": "stream",
     "text": [
      "Today's date: 2019-06-23\n"
     ]
    }
   ],
   "source": [
    "f = open(\"../keys/api.txt\", \"r\")\n",
    "keys = f.read()\n",
    "f.close()\n",
    "#keys  = keys.split(',')\n",
    "#print(\"Access Keys are : \" + str(keys))\n",
    "ACCESS_TOKEN = keys\n",
    "\n",
    "from datetime import date\n",
    "today = date.today()\n",
    "print(\"Today's date:\", today)"
   ]
  },
  {
   "cell_type": "code",
   "execution_count": 67,
   "metadata": {},
   "outputs": [],
   "source": [
    "from newsapi import NewsApiClient\n",
    "\n",
    "# Init\n",
    "newsapi = NewsApiClient(api_key=ACCESS_TOKEN)\n"
   ]
  },
  {
   "cell_type": "code",
   "execution_count": 61,
   "metadata": {},
   "outputs": [],
   "source": [
    "BBC =newsapi.get_top_headlines(sources='bbc-news')\n",
    "abc =newsapi.get_top_headlines(sources='abc-news')\n",
    "cnn =newsapi.get_top_headlines(sources='cnn')\n",
    "fox =newsapi.get_top_headlines(sources='fox-news')\n",
    "independent =newsapi.get_top_headlines(sources='independent')\n",
    "mirror=newsapi.get_top_headlines(sources='mirror')\n",
    "metro =newsapi.get_top_headlines(sources='metro')\n",
    "rt =newsapi.get_top_headlines(sources='rt')\n",
    "daily_mail =newsapi.get_top_headlines(sources='daily-mail')"
   ]
  },
  {
   "cell_type": "code",
   "execution_count": 63,
   "metadata": {},
   "outputs": [
    {
     "data": {
      "text/plain": [
       "\"Trump's temporary Cabinet and vacancy-riddled government\""
      ]
     },
     "execution_count": 63,
     "metadata": {},
     "output_type": "execute_result"
    }
   ],
   "source": [
    "cnn['articles'][9]['title']"
   ]
  },
  {
   "cell_type": "code",
   "execution_count": 21,
   "metadata": {},
   "outputs": [
    {
     "name": "stdout",
     "output_type": "stream",
     "text": [
      "status\n",
      "totalResults\n",
      "articles\n"
     ]
    }
   ],
   "source": [
    "BBC['articles'][9]['title']"
   ]
  },
  {
   "cell_type": "code",
   "execution_count": 47,
   "metadata": {},
   "outputs": [
    {
     "data": {
      "text/plain": [
       "dict_keys(['source', 'author', 'title', 'description', 'url', 'urlToImage', 'publishedAt', 'content'])"
      ]
     },
     "execution_count": 47,
     "metadata": {},
     "output_type": "execute_result"
    }
   ],
   "source": [
    "BBC['articles'][0].keys()"
   ]
  },
  {
   "cell_type": "code",
   "execution_count": 70,
   "metadata": {
    "scrolled": true
   },
   "outputs": [
    {
     "data": {
      "text/plain": [
       "{'source': {'id': 'bbc-news', 'name': 'BBC News'},\n",
       " 'author': 'BBC News',\n",
       " 'title': 'Demonstrators rally against PM in Czech Republic',\n",
       " 'description': 'Protesters are calling for Prime Minister Andrej Babis to resign amid fraud allegations.',\n",
       " 'url': 'http://www.bbc.co.uk/news/world-europe-48737467',\n",
       " 'urlToImage': 'https://ichef.bbci.co.uk/news/1024/branded_news/4FF6/production/_107507402_054845019-1.jpg',\n",
       " 'publishedAt': '2019-06-23T16:47:46Z',\n",
       " 'content': \"Image copyrightGetty ImagesImage caption\\r\\n Thousands of protesters took part in Sunday's march\\r\\nHundreds of thousands of protesters have taken to the streets of Prague demanding that PM Andrej Babis resign. \\r\\nMr Babis is facing a criminal investigation over a… [+2608 chars]\"}"
      ]
     },
     "execution_count": 70,
     "metadata": {},
     "output_type": "execute_result"
    }
   ],
   "source": [
    "BBC['articles'][0]"
   ]
  },
  {
   "cell_type": "code",
   "execution_count": 72,
   "metadata": {},
   "outputs": [],
   "source": [
    "import json\n",
    "with open('BBC.json', 'w') as fp:\n",
    "    json.dump(BBC, fp)"
   ]
  },
  {
   "cell_type": "code",
   "execution_count": 73,
   "metadata": {},
   "outputs": [],
   "source": [
    "with open('BBC.json') as json_file:  \n",
    "    data = json.load(json_file)"
   ]
  },
  {
   "cell_type": "markdown",
   "metadata": {},
   "source": [
    "**POWERED BY NewsAPI.org**"
   ]
  },
  {
   "cell_type": "code",
   "execution_count": 78,
   "metadata": {},
   "outputs": [
    {
     "data": {
      "text/plain": [
       "{'source': {'id': 'bbc-news', 'name': 'BBC News'},\n",
       " 'author': 'BBC News',\n",
       " 'title': 'Demonstrators rally against PM in Czech Republic',\n",
       " 'description': 'Protesters are calling for Prime Minister Andrej Babis to resign amid fraud allegations.',\n",
       " 'url': 'http://www.bbc.co.uk/news/world-europe-48737467',\n",
       " 'urlToImage': 'https://ichef.bbci.co.uk/news/1024/branded_news/4FF6/production/_107507402_054845019-1.jpg',\n",
       " 'publishedAt': '2019-06-23T16:47:46Z',\n",
       " 'content': \"Image copyrightGetty ImagesImage caption\\r\\n Thousands of protesters took part in Sunday's march\\r\\nHundreds of thousands of protesters have taken to the streets of Prague demanding that PM Andrej Babis resign. \\r\\nMr Babis is facing a criminal investigation over a… [+2608 chars]\"}"
      ]
     },
     "execution_count": 78,
     "metadata": {},
     "output_type": "execute_result"
    }
   ],
   "source": []
  },
  {
   "cell_type": "code",
   "execution_count": 75,
   "metadata": {},
   "outputs": [
    {
     "data": {
      "text/plain": [
       "{'status': 'ok',\n",
       " 'totalResults': 10,\n",
       " 'articles': [{'source': {'id': 'bbc-news', 'name': 'BBC News'},\n",
       "   'author': 'BBC News',\n",
       "   'title': 'Demonstrators rally against PM in Czech Republic',\n",
       "   'description': 'Protesters are calling for Prime Minister Andrej Babis to resign amid fraud allegations.',\n",
       "   'url': 'http://www.bbc.co.uk/news/world-europe-48737467',\n",
       "   'urlToImage': 'https://ichef.bbci.co.uk/news/1024/branded_news/4FF6/production/_107507402_054845019-1.jpg',\n",
       "   'publishedAt': '2019-06-23T16:47:46Z',\n",
       "   'content': \"Image copyrightGetty ImagesImage caption\\r\\n Thousands of protesters took part in Sunday's march\\r\\nHundreds of thousands of protesters have taken to the streets of Prague demanding that PM Andrej Babis resign. \\r\\nMr Babis is facing a criminal investigation over a… [+2608 chars]\"},\n",
       "  {'source': {'id': 'bbc-news', 'name': 'BBC News'},\n",
       "   'author': 'BBC News',\n",
       "   'title': 'Turkey ruling party set to lose Istanbul election',\n",
       "   'description': 'Ruling party in Turkey set to lose city of Istanbul after re-run mayoral election in big blow for President Erdogan',\n",
       "   'url': 'http://www.bbc.co.uk/news/world-europe-48739256',\n",
       "   'urlToImage': 'https://ichef.bbci.co.uk/news/1024/branded_news/7A23/production/_97176213_breaking_news_bigger.png',\n",
       "   'publishedAt': '2019-06-23T16:30:56Z',\n",
       "   'content': \"Turkey's ruling party is set to lose control of Istanbul after a re-run of the mayoral election, initial results show.\\r\\nThe candidate for the main opposition party, Ekrem Imamoglu, has a commanding lead with more than 90% of votes counted.\\r\\nThis breaking news… [+264 chars]\"},\n",
       "  {'source': {'id': 'bbc-news', 'name': 'BBC News'},\n",
       "   'author': 'BBC News',\n",
       "   'title': 'Bodies of missing climbers recovered in Himalayas',\n",
       "   'description': \"The eight mountaineers had been attempting to climb India's second-highest peak, Nanda Devi.\",\n",
       "   'url': 'http://www.bbc.co.uk/news/world-asia-india-48738142',\n",
       "   'urlToImage': 'https://ichef.bbci.co.uk/news/1024/branded_news/3C5A/production/_107205451_climbers_reutersthisone.jpg',\n",
       "   'publishedAt': '2019-06-23T16:02:20Z',\n",
       "   'content': 'Image copyrightReutersImage caption\\r\\n The group pictured before they began their ascent last month\\r\\nThe bodies of seven climbers who went missing last month have been recovered in the Himalayas, officials say.\\r\\nA rescue team is searching for the body of an ei… [+2771 chars]'},\n",
       "  {'source': {'id': 'bbc-news', 'name': 'BBC News'},\n",
       "   'author': 'BBC News',\n",
       "   'title': 'Why police are hunting a group of US state senators',\n",
       "   'description': 'Republicans from Oregon have been missing since walking out over a climate change law on Thursday.',\n",
       "   'url': 'http://www.bbc.co.uk/news/world-us-canada-48737711',\n",
       "   'urlToImage': 'https://ichef.bbci.co.uk/news/1024/branded_news/0884/production/_107508120_gettyimages-507449350.jpg',\n",
       "   'publishedAt': '2019-06-23T15:45:26Z',\n",
       "   'content': \"Image copyrightAFPImage caption\\r\\n The state's governor has tasked state troopers with finding the absentees\\r\\nEleven Republican senators from the state of Oregon are in hiding. \\r\\nThey walked out of Salem's Capitol building on Thursday and state police have bee… [+4172 chars]\"},\n",
       "  {'source': {'id': 'bbc-news', 'name': 'BBC News'},\n",
       "   'author': 'BBC Sport',\n",
       "   'title': \"Watch: Fifa Women's World Cup - England v Cameroon in last 16 under way\",\n",
       "   'description': \"England face Cameroon in the round of 16 at the Fifa Women's World Cup 2019 - watch BBC One coverage, listen to BBC Radio 5 Live commentary and follow live text.\",\n",
       "   'url': 'http://www.bbc.co.uk/sport/live/football/47323153',\n",
       "   'urlToImage': 'https://m.files.bbci.co.uk/modules/bbc-morph-sport-opengraph/1.1.1/images/bbc-sport-logo.png',\n",
       "   'publishedAt': '2019-06-23T15:35:54Z',\n",
       "   'content': 'England assistant coach Bev Priestman: The African teams are unpredictable and unorthodox. With\\r\\nJapan you knew exactly what you were going to get in terms of their structure.\\r\\nWith an African team, theyre athletic with a lot of direct play and\\r\\nsecond-phase … [+239 chars]'},\n",
       "  {'source': {'id': 'bbc-news', 'name': 'BBC News'},\n",
       "   'author': 'BBC News',\n",
       "   'title': 'Ukraine holds largest gay pride event to date',\n",
       "   'description': 'Organisers say around 8,000 attended the Kiev parade - up from 5,000 last year.',\n",
       "   'url': 'http://www.bbc.co.uk/news/world-europe-48738251',\n",
       "   'urlToImage': 'https://ichef.bbci.co.uk/news/1024/branded_news/12732/production/_107507557_mediaitem107507556.jpg',\n",
       "   'publishedAt': '2019-06-23T14:54:41Z',\n",
       "   'content': 'Image copyrightEPA\\r\\nThousands have marched through the Ukrainian capital for its annual gay pride event, the largest and most peaceful the country has seen.\\r\\nUkrainian politicians joined the celebration in Kiev, with organisers putting the number of attendees… [+1133 chars]'},\n",
       "  {'source': {'id': 'bbc-news', 'name': 'BBC News'},\n",
       "   'author': 'BBC Sport',\n",
       "   'title': 'Lewis Hamilton cruises to French GP victory',\n",
       "   'description': 'Lewis Hamilton takes a stranglehold on the world title with a dominant victory in the French Grand Prix.',\n",
       "   'url': 'http://www.bbc.co.uk/sport/formula1/48737567',\n",
       "   'urlToImage': 'https://ichef.bbci.co.uk/onesport/cps/624/cpsprodpb/12994/production/_107508167_hamilton.jpg',\n",
       "   'publishedAt': '2019-06-23T14:38:29Z',\n",
       "   'content': 'Lewis Hamilton took a stranglehold on the world title with a dominant victory in the French Grand Prix.\\r\\nHamilton was in a league of his own, even over his Mercedes team-mate Valtteri Bottas, as the 34-year-old Briton took his sixth win in eight races.\\r\\nThe f… [+4559 chars]'},\n",
       "  {'source': {'id': 'bbc-news', 'name': 'BBC News'},\n",
       "   'author': 'BBC News',\n",
       "   'title': \"Johnson should give row 'explanation'\",\n",
       "   'description': 'Cabinet minister Liam Fox says it would be \"easier\" if the PM contender explained a row at his home.',\n",
       "   'url': 'http://www.bbc.co.uk/news/uk-politics-48736968',\n",
       "   'urlToImage': 'https://ichef.bbci.co.uk/news/1024/branded_news/C774/production/_107506015_8b6c865a-9bf9-4f38-b7b3-9f76b68f3f3b.jpg',\n",
       "   'publishedAt': '2019-06-23T11:44:20Z',\n",
       "   'content': 'Image copyrightEPA\\r\\nInternational Trade Secretary Liam Fox said it would be \"easier\" for Boris Johnson to \"just give an explanation\" about the row recorded at his home.\\r\\nThe MP said reports of the row between Mr Johnson and his partner should not be a \"distra… [+1982 chars]'},\n",
       "  {'source': {'id': 'bbc-news', 'name': 'BBC News'},\n",
       "   'author': 'BBC News',\n",
       "   'title': 'Ethiopia army chief shot amid unrest',\n",
       "   'description': 'The attack on Seare Mekonnen followed an attempted coup in the northern Amhara region.',\n",
       "   'url': 'http://www.bbc.co.uk/news/world-africa-48734572',\n",
       "   'urlToImage': 'https://ichef.bbci.co.uk/news/1024/branded_news/15586/production/_107503478_ethiopia.jpg',\n",
       "   'publishedAt': '2019-06-23T01:49:10Z',\n",
       "   'content': \"Image copyrightGetty ImagesImage caption\\r\\n Mr Abiy has taken measures to end repression, but ethnic violence has increased\\r\\nEthiopia's Prime Minister Abiy Ahmed says the country's defence chief of staff has been shot following unrest in the northern Amhara re… [+1693 chars]\"},\n",
       "  {'source': {'id': 'bbc-news', 'name': 'BBC News'},\n",
       "   'author': 'BBC News',\n",
       "   'title': \"Kim Jong-un receives 'excellent' letter from Trump\",\n",
       "   'description': 'State media says the North Korean leader will \"seriously contemplate the interesting content\".',\n",
       "   'url': 'http://www.bbc.co.uk/news/world-asia-48734571',\n",
       "   'urlToImage': 'https://ichef.bbci.co.uk/news/1024/branded_news/AD8E/production/_107503444_mediaitem107503433.jpg',\n",
       "   'publishedAt': '2019-06-22T23:54:03Z',\n",
       "   'content': 'Image copyrightAFPImage caption\\r\\n Mr Kim was pictured reading the letter\\r\\nNorth Korea leader Kim Jong-un has received a personal letter from US President Donald Trump, state media has reported. \\r\\nMr Kim praised the letter as \"excellent\" and said he would \"ser… [+1006 chars]'}]}"
      ]
     },
     "execution_count": 75,
     "metadata": {},
     "output_type": "execute_result"
    }
   ],
   "source": []
  },
  {
   "cell_type": "code",
   "execution_count": 88,
   "metadata": {},
   "outputs": [],
   "source": [
    "news_array = ['BBC,bbc-news', 'abc,abc-news','cnn,cnn','fox,fox-news','independent,independent','mirror,mirror','metro,metro','rt,rt','daily_mail,daily-mail']\n"
   ]
  },
  {
   "cell_type": "code",
   "execution_count": 92,
   "metadata": {},
   "outputs": [
    {
     "data": {
      "text/plain": [
       "'fox-news'"
      ]
     },
     "execution_count": 92,
     "metadata": {},
     "output_type": "execute_result"
    }
   ],
   "source": [
    "news_array[3].split(',')[1]"
   ]
  },
  {
   "cell_type": "code",
   "execution_count": 100,
   "metadata": {},
   "outputs": [
    {
     "name": "stdout",
     "output_type": "stream",
     "text": [
      "PULLING NEWS HEADLINES - PLEASE WAIT .......\n"
     ]
    }
   ],
   "source": [
    "news_keyname_array = ['BBC,bbc-news', 'abc,abc-news']\n",
    "news_array = []\n",
    "\n",
    "print(\"PULLING NEWS HEADLINES - PLEASE WAIT .......\")\n",
    "for item in news_keyname_array:\n",
    "\tnews_name = item.split(',')[0]\n",
    "\tnews_key = item.split(',')[1]\n",
    "\tnews_array.append(newsapi.get_top_headlines(sources=news_key))\n",
    "\n",
    "\n"
   ]
  },
  {
   "cell_type": "code",
   "execution_count": 107,
   "metadata": {},
   "outputs": [],
   "source": [
    "file_name = str(news_name + \".json\")"
   ]
  },
  {
   "cell_type": "code",
   "execution_count": 128,
   "metadata": {},
   "outputs": [
    {
     "name": "stdout",
     "output_type": "stream",
     "text": [
      "PULLING NEWS HEADLINES - PLEASE WAIT .......\n",
      "Complete - WRITING TO FILE.......\n"
     ]
    },
    {
     "ename": "TypeError",
     "evalue": "list indices must be integers or slices, not str",
     "output_type": "error",
     "traceback": [
      "\u001b[0;31m---------------------------------------------------------------------------\u001b[0m",
      "\u001b[0;31mTypeError\u001b[0m                                 Traceback (most recent call last)",
      "\u001b[0;32m<ipython-input-128-b53955c86dd8>\u001b[0m in \u001b[0;36m<module>\u001b[0;34m\u001b[0m\n\u001b[1;32m      6\u001b[0m         \u001b[0mprint\u001b[0m\u001b[0;34m(\u001b[0m\u001b[0;34m\"Complete - WRITING TO FILE.......\"\u001b[0m\u001b[0;34m)\u001b[0m\u001b[0;34m\u001b[0m\u001b[0;34m\u001b[0m\u001b[0m\n\u001b[1;32m      7\u001b[0m         \u001b[0mfile_name\u001b[0m \u001b[0;34m=\u001b[0m \u001b[0mstr\u001b[0m\u001b[0;34m(\u001b[0m\u001b[0mnews_name\u001b[0m \u001b[0;34m+\u001b[0m \u001b[0;34m\".json\"\u001b[0m\u001b[0;34m)\u001b[0m\u001b[0;34m\u001b[0m\u001b[0;34m\u001b[0m\u001b[0m\n\u001b[0;32m----> 8\u001b[0;31m         \u001b[0mjson_item\u001b[0m \u001b[0;34m=\u001b[0m \u001b[0mnews_array\u001b[0m\u001b[0;34m[\u001b[0m\u001b[0mitem\u001b[0m\u001b[0;34m]\u001b[0m\u001b[0;34m\u001b[0m\u001b[0;34m\u001b[0m\u001b[0m\n\u001b[0m\u001b[1;32m      9\u001b[0m         \u001b[0;32mwith\u001b[0m \u001b[0mopen\u001b[0m\u001b[0;34m(\u001b[0m\u001b[0mfile_name\u001b[0m\u001b[0;34m,\u001b[0m \u001b[0;34m'w'\u001b[0m\u001b[0;34m)\u001b[0m \u001b[0;32mas\u001b[0m \u001b[0mfp\u001b[0m\u001b[0;34m:\u001b[0m\u001b[0;34m\u001b[0m\u001b[0;34m\u001b[0m\u001b[0m\n\u001b[1;32m     10\u001b[0m                 \u001b[0mjson\u001b[0m\u001b[0;34m.\u001b[0m\u001b[0mdump\u001b[0m\u001b[0;34m(\u001b[0m\u001b[0mjson_item\u001b[0m\u001b[0;34m,\u001b[0m \u001b[0mfp\u001b[0m\u001b[0;34m)\u001b[0m\u001b[0;34m\u001b[0m\u001b[0;34m\u001b[0m\u001b[0m\n",
      "\u001b[0;31mTypeError\u001b[0m: list indices must be integers or slices, not str"
     ]
    }
   ],
   "source": [
    "print(\"PULLING NEWS HEADLINES - PLEASE WAIT .......\")\n",
    "for item in news_keyname_array:\n",
    "\tnews_name = item.split(',')[0]\n",
    "\tnews_key = item.split(',')[1]\n",
    "\tnews_array.append(newsapi.get_top_headlines(sources=news_key))\n",
    "\tprint(\"Complete - WRITING TO FILE.......\")\n",
    "\tfile_name = str(news_name + \".json\")\n",
    "\tjson_item = news_array[item]\n",
    "\twith open(file_name, 'w') as fp:\n",
    "\t\tjson.dump(json_item, fp)\n",
    "\n"
   ]
  },
  {
   "cell_type": "code",
   "execution_count": 131,
   "metadata": {},
   "outputs": [
    {
     "name": "stdout",
     "output_type": "stream",
     "text": [
      "data/2019-06-23\n"
     ]
    }
   ],
   "source": [
    "directory = \"data/\" + str(today)\n",
    "print(directory)"
   ]
  },
  {
   "cell_type": "code",
   "execution_count": 139,
   "metadata": {},
   "outputs": [
    {
     "name": "stdout",
     "output_type": "stream",
     "text": [
      "['cnn', 'metro', 'fox', 'BBC', 'daily_mail', 'rt', 'mirror', 'independent', 'abc']\n"
     ]
    }
   ],
   "source": [
    "import os\n",
    "newsNameArray = []\n",
    "data = []\n",
    "directory = \"data/\" + str(today)\n",
    "for filename in os.listdir(directory):\n",
    "    if filename.endswith(\".json\"): \n",
    "        newsName = filename[:-5]\n",
    "        newsNameArray.append(newsName)\n",
    "        with open(str(directory) + \"/\" + str(filename)) as json_file:\n",
    "            data.append(json.load(json_file))\n",
    "        continue\n",
    "    else:\n",
    "        continue\n",
    "\n",
    "\n",
    "print(newsNameArray)\n"
   ]
  },
  {
   "cell_type": "code",
   "execution_count": 154,
   "metadata": {},
   "outputs": [
    {
     "data": {
      "text/plain": [
       "9"
      ]
     },
     "execution_count": 154,
     "metadata": {},
     "output_type": "execute_result"
    }
   ],
   "source": [
    "len(data)"
   ]
  },
  {
   "cell_type": "code",
   "execution_count": 148,
   "metadata": {},
   "outputs": [
    {
     "data": {
      "text/plain": [
       "{'source': {'id': 'cnn', 'name': 'CNN'},\n",
       " 'author': 'Artemis Moshtaghian and Eric Levenson, CNN',\n",
       " 'title': 'Hard Rock Hotel in Dominican Republic to remove liquor dispensers from minibars',\n",
       " 'description': 'The general manager said the decision is not connected to the deaths of two American tourists at the Punta Cana resort, but is meant to provide \"more tranquility for guests.\"',\n",
       " 'url': 'http://us.cnn.com/2019/06/23/world/hard-rock-dominican-republic-tourists/index.html',\n",
       " 'urlToImage': 'https://cdn.cnn.com/cnnnext/dam/assets/151118151232-02-dominican-republic-best-beaches-super-tease.jpg',\n",
       " 'publishedAt': '2019-06-23T18:41:06Z',\n",
       " 'content': '(CNN)The Hard Rock Hotel and Casino is removing liquor dispensers from guest room minibars at its resort in Punta Cana, the Dominican Republic, the general manager of the resort told CNN. \\r\\nHard Rock Hotel and Casino decided last week to remove the liquor dis… [+3093 chars]'}"
      ]
     },
     "execution_count": 148,
     "metadata": {},
     "output_type": "execute_result"
    }
   ],
   "source": [
    "data[0]['articles'][0]"
   ]
  },
  {
   "cell_type": "code",
   "execution_count": 152,
   "metadata": {},
   "outputs": [
    {
     "name": "stdout",
     "output_type": "stream",
     "text": [
      "CNN\n",
      "Hard Rock Hotel in Dominican Republic to remove liquor dispensers from minibars\n"
     ]
    }
   ],
   "source": [
    "print(data[0]['articles'][0]['source']['name'])\n",
    "print(data[0]['articles'][0]['title'])"
   ]
  },
  {
   "cell_type": "code",
   "execution_count": 191,
   "metadata": {},
   "outputs": [],
   "source": [
    "quizz_array = []\n",
    "\n",
    "for company in range(0, len(data)):\n",
    "    for article in range(0, len(data[company]['articles'])):\n",
    "        news_firm = data[company]['articles'][article]['source']['name']\n",
    "        headline =  data[company]['articles'][article]['title']\n",
    "        item = str(str(news_firm) + \",\" + str(headline))\n",
    "        quizz_array.append(item)\n",
    "        \n",
    "    "
   ]
  },
  {
   "cell_type": "code",
   "execution_count": 197,
   "metadata": {},
   "outputs": [
    {
     "data": {
      "text/plain": [
       "'CNN,Hard Rock Hotel in Dominican Republic to remove liquor dispensers from minibars'"
      ]
     },
     "execution_count": 197,
     "metadata": {},
     "output_type": "execute_result"
    }
   ],
   "source": [
    "quizz_array[0]"
   ]
  },
  {
   "cell_type": "code",
   "execution_count": 198,
   "metadata": {},
   "outputs": [
    {
     "ename": "TypeError",
     "evalue": "'dict_keys' object is not subscriptable",
     "output_type": "error",
     "traceback": [
      "\u001b[0;31m---------------------------------------------------------------------------\u001b[0m",
      "\u001b[0;31mTypeError\u001b[0m                                 Traceback (most recent call last)",
      "\u001b[0;32m<ipython-input-198-676c54e5fdab>\u001b[0m in \u001b[0;36m<module>\u001b[0;34m\u001b[0m\n\u001b[1;32m     29\u001b[0m \u001b[0;34m\u001b[0m\u001b[0m\n\u001b[1;32m     30\u001b[0m \u001b[0;34m\u001b[0m\u001b[0m\n\u001b[0;32m---> 31\u001b[0;31m \u001b[0mquestions_shuffled\u001b[0m \u001b[0;34m=\u001b[0m \u001b[0mshuffle\u001b[0m\u001b[0;34m(\u001b[0m\u001b[0mquestions\u001b[0m\u001b[0;34m)\u001b[0m\u001b[0;34m\u001b[0m\u001b[0;34m\u001b[0m\u001b[0m\n\u001b[0m\u001b[1;32m     32\u001b[0m \u001b[0;34m\u001b[0m\u001b[0m\n\u001b[1;32m     33\u001b[0m \u001b[0;34m\u001b[0m\u001b[0m\n",
      "\u001b[0;32m<ipython-input-198-676c54e5fdab>\u001b[0m in \u001b[0;36mshuffle\u001b[0;34m(q)\u001b[0m\n\u001b[1;32m     22\u001b[0m  \u001b[0mi\u001b[0m \u001b[0;34m=\u001b[0m \u001b[0;36m0\u001b[0m\u001b[0;34m\u001b[0m\u001b[0;34m\u001b[0m\u001b[0m\n\u001b[1;32m     23\u001b[0m  \u001b[0;32mwhile\u001b[0m \u001b[0mi\u001b[0m \u001b[0;34m<\u001b[0m \u001b[0mlen\u001b[0m\u001b[0;34m(\u001b[0m\u001b[0mq\u001b[0m\u001b[0;34m)\u001b[0m\u001b[0;34m:\u001b[0m\u001b[0;34m\u001b[0m\u001b[0;34m\u001b[0m\u001b[0m\n\u001b[0;32m---> 24\u001b[0;31m   \u001b[0mcurrent_selection\u001b[0m \u001b[0;34m=\u001b[0m \u001b[0mrandom\u001b[0m\u001b[0;34m.\u001b[0m\u001b[0mchoice\u001b[0m\u001b[0;34m(\u001b[0m\u001b[0mq\u001b[0m\u001b[0;34m.\u001b[0m\u001b[0mkeys\u001b[0m\u001b[0;34m(\u001b[0m\u001b[0;34m)\u001b[0m\u001b[0;34m)\u001b[0m\u001b[0;34m\u001b[0m\u001b[0;34m\u001b[0m\u001b[0m\n\u001b[0m\u001b[1;32m     25\u001b[0m   \u001b[0;32mif\u001b[0m \u001b[0mcurrent_selection\u001b[0m \u001b[0;32mnot\u001b[0m \u001b[0;32min\u001b[0m \u001b[0mselected_keys\u001b[0m\u001b[0;34m:\u001b[0m\u001b[0;34m\u001b[0m\u001b[0;34m\u001b[0m\u001b[0m\n\u001b[1;32m     26\u001b[0m    \u001b[0mselected_keys\u001b[0m\u001b[0;34m.\u001b[0m\u001b[0mappend\u001b[0m\u001b[0;34m(\u001b[0m\u001b[0mcurrent_selection\u001b[0m\u001b[0;34m)\u001b[0m\u001b[0;34m\u001b[0m\u001b[0;34m\u001b[0m\u001b[0m\n",
      "\u001b[0;32m/anaconda3/lib/python3.7/random.py\u001b[0m in \u001b[0;36mchoice\u001b[0;34m(self, seq)\u001b[0m\n\u001b[1;32m    260\u001b[0m         \u001b[0;32mexcept\u001b[0m \u001b[0mValueError\u001b[0m\u001b[0;34m:\u001b[0m\u001b[0;34m\u001b[0m\u001b[0;34m\u001b[0m\u001b[0m\n\u001b[1;32m    261\u001b[0m             \u001b[0;32mraise\u001b[0m \u001b[0mIndexError\u001b[0m\u001b[0;34m(\u001b[0m\u001b[0;34m'Cannot choose from an empty sequence'\u001b[0m\u001b[0;34m)\u001b[0m \u001b[0;32mfrom\u001b[0m \u001b[0;32mNone\u001b[0m\u001b[0;34m\u001b[0m\u001b[0;34m\u001b[0m\u001b[0m\n\u001b[0;32m--> 262\u001b[0;31m         \u001b[0;32mreturn\u001b[0m \u001b[0mseq\u001b[0m\u001b[0;34m[\u001b[0m\u001b[0mi\u001b[0m\u001b[0;34m]\u001b[0m\u001b[0;34m\u001b[0m\u001b[0;34m\u001b[0m\u001b[0m\n\u001b[0m\u001b[1;32m    263\u001b[0m \u001b[0;34m\u001b[0m\u001b[0m\n\u001b[1;32m    264\u001b[0m     \u001b[0;32mdef\u001b[0m \u001b[0mshuffle\u001b[0m\u001b[0;34m(\u001b[0m\u001b[0mself\u001b[0m\u001b[0;34m,\u001b[0m \u001b[0mx\u001b[0m\u001b[0;34m,\u001b[0m \u001b[0mrandom\u001b[0m\u001b[0;34m=\u001b[0m\u001b[0;32mNone\u001b[0m\u001b[0;34m)\u001b[0m\u001b[0;34m:\u001b[0m\u001b[0;34m\u001b[0m\u001b[0;34m\u001b[0m\u001b[0m\n",
      "\u001b[0;31mTypeError\u001b[0m: 'dict_keys' object is not subscriptable"
     ]
    }
   ],
   "source": [
    "import random, copy\n",
    "original_questions = {\n",
    " #Format is 'question':[options]\n",
    " 'Taj Mahal':['Agra','New Delhi','Mumbai','Chennai'],\n",
    " 'Great Wall of China':['China','Beijing','Shanghai','Tianjin'],\n",
    " 'Petra':['Ma\\'an Governorate','Amman','Zarqa','Jerash'],\n",
    " 'Machu Picchu':['Cuzco Region','Lima','Piura','Tacna'],\n",
    " 'Egypt Pyramids':['Giza','Suez','Luxor','Tanta'],\n",
    " 'Colosseum':['Rome','Milan','Bari','Bologna'],\n",
    " 'Christ the Redeemer':['Rio de Janeiro','Natal','Olinda','Betim']\n",
    "}\n",
    "\n",
    "questions = copy.deepcopy(original_questions)\n",
    "\n",
    "\n",
    "def shuffle(q):\n",
    " \"\"\"\n",
    " This function is for shuffling \n",
    " the dictionary elements.\n",
    " \"\"\"\n",
    " selected_keys = []\n",
    " i = 0\n",
    " while i < len(q):\n",
    "  current_selection = random.choice(q.keys())\n",
    "  if current_selection not in selected_keys:\n",
    "   selected_keys.append(current_selection)\n",
    "   i = i+1\n",
    " return selected_keys\n",
    "\n",
    "\n",
    "questions_shuffled = shuffle(questions)\n",
    "\n",
    "\n",
    "for i in questions_shuffled:\n",
    " random.shuffle(questions[i])\n",
    " print('''\n",
    " Where is {} located?\n",
    " {}\n",
    " Correct Answer is: {}\n",
    " ''').format(i,questions[i],original_questions[i][0])"
   ]
  },
  {
   "cell_type": "code",
   "execution_count": 183,
   "metadata": {},
   "outputs": [
    {
     "data": {
      "text/plain": [
       "'ABC News'"
      ]
     },
     "execution_count": 183,
     "metadata": {},
     "output_type": "execute_result"
    }
   ],
   "source": [
    "quizz_array[88]"
   ]
  },
  {
   "cell_type": "code",
   "execution_count": null,
   "metadata": {},
   "outputs": [],
   "source": []
  }
 ],
 "metadata": {
  "kernelspec": {
   "display_name": "Python 3",
   "language": "python",
   "name": "python3"
  },
  "language_info": {
   "codemirror_mode": {
    "name": "ipython",
    "version": 3
   },
   "file_extension": ".py",
   "mimetype": "text/x-python",
   "name": "python",
   "nbconvert_exporter": "python",
   "pygments_lexer": "ipython3",
   "version": "3.7.3"
  }
 },
 "nbformat": 4,
 "nbformat_minor": 2
}
