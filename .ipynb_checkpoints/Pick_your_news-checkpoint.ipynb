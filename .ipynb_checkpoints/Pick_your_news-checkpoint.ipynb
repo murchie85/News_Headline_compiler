{
 "cells": [
  {
   "cell_type": "code",
   "execution_count": 76,
   "metadata": {},
   "outputs": [],
   "source": [
    "import json\n",
    "import os\n",
    "from datetime import date\n",
    "from newsapi import NewsApiClient\n",
    "import pandas as pd\n",
    "\n",
    "# IMPORT API KEYS\n",
    "f = open(\"../keys/api.txt\", \"r\")\n",
    "keys = f.read()\n",
    "f.close()\n",
    "ACCESS_TOKEN = keys\n",
    "\n",
    "\n",
    "#-------------------------------------------------------------------------------------------\n",
    "#   PARMS SECTION \n",
    "#-------------------------------------------------------------------------------------------\n",
    "\n",
    "# READING IN \n",
    "NewsFileNameArray = []                         # A LIST OF FILENAMES \n",
    "data = []                                      # ALL NEWS DATA FROM LOCAL NEWS JSON FILES\n",
    "\n",
    "# REQUESTING NEW DATA\n",
    "newsapi = NewsApiClient(api_key=ACCESS_TOKEN)  # INITIALISING newsapi object\n",
    "news_keyname_array = ['bbc-news', 'abc-news','cnn','fox-news','independent','cbs-news','metro','nbc-news', 'Theguardian.com' , 'Sky.com', 'the-new-york-times', 'al-jazeera-english', 'reuters', 'the-hill' , 'breitbart-news', 'the-verge', 'the-huffington-post', 'Telegraph.co.uk']\n"
   ]
  },
  {
   "cell_type": "code",
   "execution_count": 77,
   "metadata": {},
   "outputs": [
    {
     "name": "stdout",
     "output_type": "stream",
     "text": [
      "Select your news source:\n",
      "\n",
      "0 bbc-news\n",
      "1 abc-news\n",
      "2 cnn\n",
      "3 fox-news\n",
      "4 independent\n",
      "5 cbs-news\n",
      "6 metro\n",
      "7 nbc-news\n",
      "8 Theguardian.com\n",
      "9 Sky.com\n",
      "10 the-new-york-times\n",
      "11 al-jazeera-english\n",
      "12 reuters\n",
      "13 the-hill\n",
      "14 breitbart-news\n",
      "15 the-verge\n",
      "16 the-huffington-post\n",
      "17 Telegraph.co.uk\n",
      "News Source: 2\n",
      "\n",
      "Selected News Source: CNN\n"
     ]
    }
   ],
   "source": [
    "print('Select your news source:')\n",
    "print('')\n",
    "for x in range(0, len(news_keyname_array)):\n",
    "    print(str(x) + ' ' + str(news_keyname_array[x]))\n",
    "\n",
    "selection = - 1\n",
    "while selection not in range(0, len(news_keyname_array)):\n",
    "    selection = int(input('News Source: '))\n",
    "print('')\n",
    "selected_news = news_keyname_array[selection]\n",
    "print('Selected News Source: ' + str(selected_news.upper()))"
   ]
  },
  {
   "cell_type": "code",
   "execution_count": 78,
   "metadata": {},
   "outputs": [],
   "source": [
    "json_item = newsapi.get_top_headlines(sources=selected_news)\n",
    "articles = json_item['articles']"
   ]
  },
  {
   "cell_type": "code",
   "execution_count": null,
   "metadata": {
    "scrolled": false
   },
   "outputs": [
    {
     "name": "stdout",
     "output_type": "stream",
     "text": [
      "------------start------------------\n",
      "\n",
      "PARNAS ATTORNEY EXPLAINS SIGNIFICANCE OF TRUMP RECORDING - CNN VIDEO\n",
      "\n",
      "CNN:  None\n",
      "\n",
      "SUMMARY: CNN's Anderson Cooper speaks with Lev Parnas' attorney, Joseph Bondy, about the recently released recording of President Donald Trump at a 2018 dinner with Parnas and Igor Fruman.\n",
      "\n",
      "Published at: 2020-01-26\n",
      "\n",
      "http://us.cnn.com/videos/politics/2020/01/26/joseph-bondy-parnas-attorney-recording-cooper-ac360-bts-vpx.cnn\n",
      "-----------next----------------\n",
      "\n",
      "CORONAVIRUS OUTBREAK: LATEST NEWS AND LIVE UPDATES - CNN\n",
      "\n",
      "CNN:  By <a href=\"/profiles/joshua-berlinger\">Joshua Berlinger</a> and <a href=\"/profiles/brett-mckeehan\">Brett McKeehan</a>, CNN\n",
      "\n",
      "SUMMARY: None\n",
      "\n",
      "Published at: 2020-01-26\n",
      "\n",
      "http://www.cnn.com/asia/live-news/coronavirus-outbreak-hnk-intl-01-26-20/index.html\n",
      "-----------next----------------\n",
      "\n",
      "CNN'S JOHN HARWOOD: THIS IS MOST THE CHILLING PART OF TRUMP AUDIO ... - CNN VIDEO\n",
      "\n",
      "CNN:  None\n",
      "\n",
      "SUMMARY: CNN's John Harwood discusses the newly released audio of President Donald Trump asking how long Ukraine would last in a fight against Russia without US aide.\n",
      "\n",
      "Published at: 2020-01-26\n",
      "\n",
      "http://us.cnn.com/videos/politics/2020/01/25/donald-trump-audio-ukraine-russia-sot-vpx-tsr.cnn\n",
      "-----------next----------------\n",
      "\n",
      "PARNAS RECORDING SHOWS TRUMP TALKING WITH INDICTED BUSINESSMEN THE PRESIDENT HAS SAID HE DOESN'T KNOW\n",
      "\n",
      "CNN:  Erica Orden, CNN\n"
     ]
    }
   ],
   "source": [
    "import time\n",
    "print('------------start------------------')\n",
    "for news in range(0, len(articles)):\n",
    "    #print(articles[news])\n",
    "    print('')\n",
    "    print(articles[news]['title'].upper())\n",
    "    time.sleep(1)\n",
    "    print('')\n",
    "    print(articles[news]['source']['name'] + ':  ' + str(articles[news]['author']))\n",
    "    time.sleep(2)\n",
    "    print('')\n",
    "    print('SUMMARY: ' + str(articles[news]['description']))\n",
    "    time.sleep(1)\n",
    "    print('')\n",
    "    print('Published at: ' + str(articles[news]['publishedAt'][0:10]))\n",
    "    time.sleep(1)\n",
    "    print('')\n",
    "    print(articles[news]['url'])\n",
    "    print('-----------next----------------')\n",
    "    time.sleep(2.5)"
   ]
  },
  {
   "cell_type": "code",
   "execution_count": null,
   "metadata": {},
   "outputs": [],
   "source": []
  }
 ],
 "metadata": {
  "kernelspec": {
   "display_name": "Python 3",
   "language": "python",
   "name": "python3"
  },
  "language_info": {
   "codemirror_mode": {
    "name": "ipython",
    "version": 3
   },
   "file_extension": ".py",
   "mimetype": "text/x-python",
   "name": "python",
   "nbconvert_exporter": "python",
   "pygments_lexer": "ipython3",
   "version": "3.7.3"
  }
 },
 "nbformat": 4,
 "nbformat_minor": 2
}
